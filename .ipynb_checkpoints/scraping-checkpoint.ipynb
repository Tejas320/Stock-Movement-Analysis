{
 "cells": [
  {
   "cell_type": "code",
   "execution_count": 1,
   "id": "05617397",
   "metadata": {},
   "outputs": [],
   "source": [
    "from telethon import TelegramClient\n",
    "import os\n",
    "import sys"
   ]
  },
  {
   "cell_type": "code",
   "execution_count": 2,
   "id": "28e989ce",
   "metadata": {},
   "outputs": [],
   "source": [
    "api_id = '26633719'\n",
    "api_hash = '9089c0258d614a9416cfc86e9b89e87b'\n",
    "session_name = 'anon'"
   ]
  },
  {
   "cell_type": "code",
   "execution_count": 3,
   "id": "fbdc6af0",
   "metadata": {},
   "outputs": [],
   "source": [
    "os.chdir(sys.path[0])\n",
    "\n",
    "if f\"{session_name}.session\" in os.listdir():\n",
    "    os.remove(f\"{session_name}.session\")"
   ]
  },
  {
   "cell_type": "code",
   "execution_count": 4,
   "id": "65bf9bed",
   "metadata": {},
   "outputs": [
    {
     "data": {
      "text/plain": [
       "<coroutine object AuthMethods._start at 0x000002AB167B95C0>"
      ]
     },
     "execution_count": 4,
     "metadata": {},
     "output_type": "execute_result"
    }
   ],
   "source": [
    "client = TelegramClient(session_name, api_id, api_hash)\n",
    "client.start()"
   ]
  },
  {
   "cell_type": "code",
   "execution_count": 5,
   "id": "e48c09ac",
   "metadata": {},
   "outputs": [],
   "source": [
    "async def scrape_message(client, channel, limit=500):\n",
    "    async for message in client.iter_messages(channel, limit):\n",
    "        if message.text:\n",
    "            print(message.stringify())"
   ]
  },
  {
   "cell_type": "code",
   "execution_count": 6,
   "id": "589c79db",
   "metadata": {},
   "outputs": [],
   "source": [
    "async def main():\n",
    "    channel_link = 'https://t.me/cryptokaroo'\n",
    "    await scrape_message(client, channel_link, limit=1)"
   ]
  },
  {
   "cell_type": "code",
   "execution_count": 7,
   "id": "39524cda",
   "metadata": {},
   "outputs": [
    {
     "ename": "NameError",
     "evalue": "name 'message' is not defined",
     "output_type": "error",
     "traceback": [
      "\u001b[1;31m---------------------------------------------------------------------------\u001b[0m",
      "\u001b[1;31mNameError\u001b[0m                                 Traceback (most recent call last)",
      "\u001b[1;32m~\\AppData\\Local\\Temp\\ipykernel_10444\\1681713415.py\u001b[0m in \u001b[0;36m<module>\u001b[1;34m\u001b[0m\n\u001b[1;32m----> 1\u001b[1;33m \u001b[0mmessage\u001b[0m\u001b[1;33m\u001b[0m\u001b[1;33m\u001b[0m\u001b[0m\n\u001b[0m",
      "\u001b[1;31mNameError\u001b[0m: name 'message' is not defined"
     ]
    }
   ],
   "source": [
    "message"
   ]
  },
  {
   "cell_type": "code",
   "execution_count": null,
   "id": "c4ad53f4",
   "metadata": {},
   "outputs": [],
   "source": []
  }
 ],
 "metadata": {
  "kernelspec": {
   "display_name": "Python 3 (ipykernel)",
   "language": "python",
   "name": "python3"
  },
  "language_info": {
   "codemirror_mode": {
    "name": "ipython",
    "version": 3
   },
   "file_extension": ".py",
   "mimetype": "text/x-python",
   "name": "python",
   "nbconvert_exporter": "python",
   "pygments_lexer": "ipython3",
   "version": "3.9.13"
  }
 },
 "nbformat": 4,
 "nbformat_minor": 5
}
